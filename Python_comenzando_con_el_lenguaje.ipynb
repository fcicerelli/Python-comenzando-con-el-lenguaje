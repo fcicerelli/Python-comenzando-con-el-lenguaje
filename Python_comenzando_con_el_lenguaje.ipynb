{
  "nbformat": 4,
  "nbformat_minor": 0,
  "metadata": {
    "colab": {
      "provenance": []
    },
    "kernelspec": {
      "name": "python3",
      "display_name": "Python 3"
    },
    "language_info": {
      "name": "python"
    }
  },
  "cells": [
    {
      "cell_type": "markdown",
      "source": [
        "**Proyecto de Python con Colab**"
      ],
      "metadata": {
        "id": "3WBAbG1uU1LP"
      }
    },
    {
      "cell_type": "code",
      "execution_count": 1,
      "metadata": {
        "colab": {
          "base_uri": "https://localhost:8080/"
        },
        "id": "bNWok6PNQXgi",
        "outputId": "3589440e-d97b-4619-f6d2-71fb8eff3761"
      },
      "outputs": [
        {
          "output_type": "stream",
          "name": "stdout",
          "text": [
            "**********************\n",
            "  Adivina el numero\n",
            "**********************\n",
            "Digita un número: 55\n",
            "El número que digitaste:  55\n",
            "¡Acertaste!\n",
            "El juego ha concluído!\n"
          ]
        }
      ],
      "source": [
        "print(\"**********************\")\n",
        "print(\"  Adivina el numero\")\n",
        "print(\"**********************\")\n",
        "\n",
        "numero_secreto = 55\n",
        "# Introducir un número\n",
        "entrada_str = input(\"Digita un número: \")\n",
        "entrada = int(entrada_str)\n",
        "print(\"El número que digitaste: \",entrada)\n",
        "# Si el número que se almacenó en entrada es igual al número secreto: Acierto\n",
        "if (numero_secreto == entrada):\n",
        "  print(\"¡Acertaste!\")\n",
        "# Si no se cumple la condición anterior, será: Error.\n",
        "else:\n",
        "  # Si el usuario digitó un número mayor entonces especificar ello\n",
        "  if (entrada > numero_secreto):\n",
        "    print(\"El número no corresponde! El número que ingresó es mayor.\")\n",
        "  # Si el usuario digitó un número menor entonces especificar ello\n",
        "  elif (entrada < numero_secreto):\n",
        "    print(\"El número no corresponde! El número que ingresó es menor.\")\n",
        "\n",
        "print(\"El juego ha concluído!\")"
      ]
    },
    {
      "cell_type": "code",
      "source": [
        "print(\"**********************\")\n",
        "print(\"  Adivina el numero\")\n",
        "print(\"**********************\")\n",
        "\n",
        "numero_secreto = 55\n",
        "# Introducir un número\n",
        "entrada_str = input(\"Digita un número: \")\n",
        "entrada = int(entrada_str)\n",
        "print(\"El número que digitaste: \",entrada)\n",
        "\n",
        "acierto = numero_secreto == entrada\n",
        "mayor = entrada > numero_secreto\n",
        "menor = entrada < numero_secreto\n",
        "\n",
        "# Si el número que se almacenó en entrada es igual al número secreto: Acierto\n",
        "if (acierto):\n",
        "  print(\"¡Acertaste!\")\n",
        "# Si no se cumple la condición anterior, será: Error.\n",
        "else:\n",
        "  # Si el usuario digitó un número mayor entonces especificar ello\n",
        "  if (mayor):\n",
        "    print(\"El número no corresponde! El número que ingresó es mayor.\")\n",
        "  # Si el usuario digitó un número menor entonces especificar ello\n",
        "  elif (menor):\n",
        "    print(\"El número no corresponde! El número que ingresó es menor.\")\n",
        "\n",
        "print(\"El juego ha concluído!\")\n"
      ],
      "metadata": {
        "colab": {
          "base_uri": "https://localhost:8080/"
        },
        "id": "m5YJiaL9UMlH",
        "outputId": "514b321b-cd4a-41be-bf83-9f5f2550c8d0"
      },
      "execution_count": 2,
      "outputs": [
        {
          "output_type": "stream",
          "name": "stdout",
          "text": [
            "**********************\n",
            "  Adivina el numero\n",
            "**********************\n",
            "Digita un número: 22\n",
            "El número que digitaste:  22\n",
            "El número no corresponde! El número que ingresó es menor.\n",
            "El juego ha concluído!\n"
          ]
        }
      ]
    },
    {
      "cell_type": "code",
      "source": [
        "# Ejercicio de evaluación\n",
        "edad_str = input(\"Digita tu edad: \")\n",
        "edad = int(edad_str)\n",
        "\n",
        "if (edad > 18):\n",
        "    print(\"Eres adulto.\")\n",
        "else:\n",
        "    if (edad < 12):\n",
        "        print(\"Eres un niño/a.\")\n",
        "    else:\n",
        "      if (edad > 12):\n",
        "        print(\"Eres un adolescente.\")\n",
        "      else:\n",
        "        print(\"Tenes 12 años\")"
      ],
      "metadata": {
        "colab": {
          "base_uri": "https://localhost:8080/"
        },
        "id": "iiY0lrL-eD_-",
        "outputId": "ff9dda65-571b-42c8-85bc-b2c105f08fdd"
      },
      "execution_count": 3,
      "outputs": [
        {
          "output_type": "stream",
          "name": "stdout",
          "text": [
            "Digita tu edad: 12\n",
            "Tenes 12 años\n"
          ]
        }
      ]
    },
    {
      "cell_type": "code",
      "source": [
        "# Ejercicio de evalación\n",
        "edad_str = input(\"Digita tu edad: \")\n",
        "edad = int(edad_str)\n",
        "\n",
        "adulto = edad > 18\n",
        "nino = edad < 12\n",
        "adolescente = edad > 12"
      ],
      "metadata": {
        "colab": {
          "base_uri": "https://localhost:8080/"
        },
        "id": "Y-um5nNzretS",
        "outputId": "e15895de-5004-47ed-a26d-052f216f7811"
      },
      "execution_count": 4,
      "outputs": [
        {
          "name": "stdout",
          "output_type": "stream",
          "text": [
            "Digita tu edad: 99\n"
          ]
        }
      ]
    },
    {
      "cell_type": "code",
      "source": [
        "# Ejercicio\n",
        "usuario = input(\"¡Ingrese el usuario del sistema!\")\n",
        "\n",
        "if(usuario == \"Flavio\"):\n",
        "  print(\"¡Bienvenido Flavio!\")\n",
        "elif(usuario == \"Douglas\"):\n",
        "  print(\"¡Bienvenido Douglas!\")\n",
        "elif(usuario == \"Nico\"):\n",
        "  print(\"¡Bienvenido Nico!\")\n",
        "else:\n",
        "  print(\"¡Usuario no identificado!\")"
      ],
      "metadata": {
        "colab": {
          "base_uri": "https://localhost:8080/"
        },
        "id": "ZYMw4f3-sHd1",
        "outputId": "d44e506d-1fa3-48dd-9b2c-2ba47e79c6ec"
      },
      "execution_count": 5,
      "outputs": [
        {
          "output_type": "stream",
          "name": "stdout",
          "text": [
            "¡Ingrese el usuario del sistema!Nico\n",
            "¡Bienvenido Nico!\n"
          ]
        }
      ]
    },
    {
      "cell_type": "code",
      "source": [
        "acerto = (entrada == numero_secreto)\n",
        "type(acerto)"
      ],
      "metadata": {
        "colab": {
          "base_uri": "https://localhost:8080/"
        },
        "id": "BLlZEpZ1sK5t",
        "outputId": "d96f7d23-643e-4af2-eda6-7752078e795f"
      },
      "execution_count": 6,
      "outputs": [
        {
          "output_type": "execute_result",
          "data": {
            "text/plain": [
              "bool"
            ]
          },
          "metadata": {},
          "execution_count": 6
        }
      ]
    },
    {
      "cell_type": "code",
      "source": [],
      "metadata": {
        "id": "xt4y5vQMEikC"
      },
      "execution_count": 6,
      "outputs": []
    },
    {
      "cell_type": "code",
      "source": [
        "print(\"**********************\")\n",
        "print(\"  Adivina el numero\")\n",
        "print(\"**********************\")\n",
        "\n",
        "numero_secreto = 55\n",
        "# Introducir un número\n",
        "total_intentos = 3\n",
        "intento = 1\n",
        "\n",
        "# Mientras se cumpla una condición entonces continúe siendo ejecutado\n",
        "\n",
        "while (total_intentos >= intento):\n",
        "  # print(\"Intento {} de {}\".format(intento, total_intentos))\n",
        "  print(f\"Intento {intento} de {total_intentos}\")\n",
        "  entrada_str = input(\"Digita un número: \")\n",
        "  entrada = int(entrada_str)\n",
        "  print(\"El número que digitaste: \",entrada)\n",
        "\n",
        "  acierto = numero_secreto == entrada\n",
        "  mayor = entrada > numero_secreto\n",
        "  menor = entrada < numero_secreto\n",
        "\n",
        "  # Si el número que se almacenó en entrada es igual al número secreto: Acierto\n",
        "  if (acierto):\n",
        "    print(\"¡Acertaste!\")\n",
        "  # Si no se cumple la condición anterior, será: Error.\n",
        "  else:\n",
        "    # Si el usuario digitó un número mayor entonces especificar ello\n",
        "    if (mayor):\n",
        "      print(\"El número no corresponde! El número que ingresó es mayor.\")\n",
        "    # Si el usuario digitó un número menor entonces especificar ello\n",
        "    elif (menor):\n",
        "      print(\"El número no corresponde! El número que ingresó es menor.\")\n",
        "  # intento = intento + 1\n",
        "  intento += 1\n",
        "\n",
        "print(\"El juego ha concluído!\")\n"
      ],
      "metadata": {
        "colab": {
          "base_uri": "https://localhost:8080/"
        },
        "outputId": "5fa992dd-f294-496d-be6d-2b6500ed0339",
        "id": "ltVO9GjrLdT4"
      },
      "execution_count": 13,
      "outputs": [
        {
          "output_type": "stream",
          "name": "stdout",
          "text": [
            "**********************\n",
            "  Adivina el numero\n",
            "**********************\n",
            "Intento 1 de 3\n",
            "Digita un número: 55\n",
            "El número que digitaste:  55\n",
            "¡Acertaste!\n",
            "Intento 2 de 3\n",
            "Digita un número: 55\n",
            "El número que digitaste:  55\n",
            "¡Acertaste!\n",
            "Intento 3 de 3\n",
            "Digita un número: 55\n",
            "El número que digitaste:  55\n",
            "¡Acertaste!\n",
            "El juego ha concluído!\n"
          ]
        }
      ]
    },
    {
      "cell_type": "code",
      "source": [
        "dia_ini = 24\n",
        "dia_fin = 28\n",
        "mes = \"febrero\"\n",
        "ano = 2023\n",
        "print(f\"En {ano}, el Carnaval se celebra entre los días {dia_ini} y {dia_fin} de {mes}\")\n",
        "print(\"En {}, el Carnaval se celebra entre los días {} y {} de {}\".format(ano, dia_ini, dia_fin, mes))"
      ],
      "metadata": {
        "colab": {
          "base_uri": "https://localhost:8080/"
        },
        "id": "lRprQl1y-haO",
        "outputId": "b7936f07-2cc6-4b1a-ea07-02b1852840da"
      },
      "execution_count": 14,
      "outputs": [
        {
          "output_type": "stream",
          "name": "stdout",
          "text": [
            "En 2023, el Carnaval se celebra entre los días 24 y 28 de febrero\n",
            "En 2023, el Carnaval se celebra entre los días 24 y 28 de febrero\n"
          ]
        }
      ]
    },
    {
      "cell_type": "code",
      "source": [
        "for numero in range(5):\n",
        "  print(numero)"
      ],
      "metadata": {
        "colab": {
          "base_uri": "https://localhost:8080/"
        },
        "id": "khw6QM-qCUYN",
        "outputId": "9cd08002-638d-48dc-cde5-1dd74fe7c72f"
      },
      "execution_count": 15,
      "outputs": [
        {
          "output_type": "stream",
          "name": "stdout",
          "text": [
            "0\n",
            "1\n",
            "2\n",
            "3\n",
            "4\n"
          ]
        }
      ]
    },
    {
      "cell_type": "code",
      "source": [
        "for numero in range(1,6):\n",
        "  print(numero)"
      ],
      "metadata": {
        "colab": {
          "base_uri": "https://localhost:8080/"
        },
        "id": "3w1F02_9HkYk",
        "outputId": "9bfc2822-02e7-4e26-8c0e-b1d9b28f4e80"
      },
      "execution_count": 16,
      "outputs": [
        {
          "output_type": "stream",
          "name": "stdout",
          "text": [
            "1\n",
            "2\n",
            "3\n",
            "4\n",
            "5\n"
          ]
        }
      ]
    },
    {
      "cell_type": "code",
      "source": [
        "for numero in range(1,10,2):\n",
        "  print(numero)"
      ],
      "metadata": {
        "colab": {
          "base_uri": "https://localhost:8080/"
        },
        "id": "-76KAFlGH3ir",
        "outputId": "61ec8081-9380-4987-b1ed-b68fec35c5ca"
      },
      "execution_count": 17,
      "outputs": [
        {
          "output_type": "stream",
          "name": "stdout",
          "text": [
            "1\n",
            "3\n",
            "5\n",
            "7\n",
            "9\n"
          ]
        }
      ]
    },
    {
      "cell_type": "code",
      "source": [
        "print(\"**********************\")\n",
        "print(\"  Adivina el numero\")\n",
        "print(\"**********************\")\n",
        "\n",
        "numero_secreto = 55\n",
        "# Mientras el intento esté dentro del rango, entonces continúe siendo ejecutado\n",
        "\n",
        "for intento in range(1,4):\n",
        "  # print(\"Intento {} de {}\".format(intento, total_intentos))\n",
        "  print(f\"Intento {intento} de {total_intentos}\")\n",
        "  entrada_str = input(\"Digita un número: \")\n",
        "  entrada = int(entrada_str)\n",
        "  if (entrada < 1 or entrada > 100):\n",
        "    print(\"Digita un número mayor que 0 y menor o igual a 100\")\n",
        "    continue\n",
        "    \n",
        "  print(\"El número que digitaste: \",entrada)\n",
        "  # Introducir un número\n",
        "  acierto = numero_secreto == entrada\n",
        "  mayor = entrada > numero_secreto\n",
        "  menor = entrada < numero_secreto\n",
        "\n",
        "  # Si el número que se almacenó en entrada es igual al número secreto: Acierto\n",
        "  if (acierto):\n",
        "    print(\"¡Acertaste!\")\n",
        "    break\n",
        "  # Si no se cumple la condición anterior, será: Error.\n",
        "  else:\n",
        "    # Si el usuario digitó un número mayor entonces especificar ello\n",
        "    if (mayor):\n",
        "      print(\"El número no corresponde! El número que ingresó es mayor.\")\n",
        "    # Si el usuario digitó un número menor entonces especificar ello\n",
        "    elif (menor):\n",
        "      print(\"El número no corresponde! El número que ingresó es menor.\")\n",
        "\n",
        "print(\"El juego ha concluído!\")\n"
      ],
      "metadata": {
        "colab": {
          "base_uri": "https://localhost:8080/"
        },
        "id": "pRt7O8YnICzo",
        "outputId": "9016dd09-d20d-4f72-d621-85beeca0df4d"
      },
      "execution_count": 21,
      "outputs": [
        {
          "output_type": "stream",
          "name": "stdout",
          "text": [
            "**********************\n",
            "  Adivina el numero\n",
            "**********************\n",
            "Intento 1 de 3\n",
            "Digita un número: 1\n",
            "El número que digitaste:  1\n",
            "El número no corresponde! El número que ingresó es menor.\n",
            "Intento 2 de 3\n",
            "Digita un número: 100\n",
            "El número que digitaste:  100\n",
            "El número no corresponde! El número que ingresó es mayor.\n",
            "Intento 3 de 3\n",
            "Digita un número: 99\n",
            "El número que digitaste:  99\n",
            "El número no corresponde! El número que ingresó es mayor.\n",
            "El juego ha concluído!\n"
          ]
        }
      ]
    },
    {
      "cell_type": "code",
      "source": [],
      "metadata": {
        "id": "1LegIEdBJnS-"
      },
      "execution_count": 17,
      "outputs": []
    }
  ]
}